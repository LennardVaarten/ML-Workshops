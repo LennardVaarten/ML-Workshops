{
 "cells": [
  {
   "cell_type": "code",
   "execution_count": null,
   "id": "8c344b97",
   "metadata": {},
   "outputs": [],
   "source": [
    "# importing libraries, etc...\n",
    "\n",
    "import pandas as pd\n",
    "import seaborn as sns\n",
    "import numpy as np\n",
    "import seaborn as sns\n",
    "import matplotlib.pyplot as plt\n",
    "%matplotlib inline\n",
    "sns.set()"
   ]
  },
  {
   "cell_type": "markdown",
   "id": "62c340ff",
   "metadata": {},
   "source": [
    "The mnist dataset contains 70,000 labeled handwritten digits. The digits were recorded as 28x28 images, and the dataset contains the grey values of all the pixel values (so 28*28=784 pixel values for each sample). The aim is to create a model that can accurately classify whether a given digit is a 0, 1, 2, etc... \n",
    "\n",
    "Examples:"
   ]
  },
  {
   "cell_type": "markdown",
   "id": "2dd9b707",
   "metadata": {},
   "source": [
    "<div>\n",
    "<img src=\"media/mnist.png\" width=\"500\"/>\n",
    "</div>"
   ]
  },
  {
   "cell_type": "markdown",
   "id": "3cc60eff",
   "metadata": {},
   "source": [
    "To make model-building a little more feasible, I've taken a subset of the dataset containing 20,000 samples, rather than the full 70,000. However, if you have time (or a powerful PC), you can also choose to download mnist_full.csv from Canvas, which contains all 70,000 samples."
   ]
  },
  {
   "cell_type": "code",
   "execution_count": 6,
   "id": "a0e778a8",
   "metadata": {
    "scrolled": true
   },
   "outputs": [
    {
     "data": {
      "text/html": [
       "<div>\n",
       "<style scoped>\n",
       "    .dataframe tbody tr th:only-of-type {\n",
       "        vertical-align: middle;\n",
       "    }\n",
       "\n",
       "    .dataframe tbody tr th {\n",
       "        vertical-align: top;\n",
       "    }\n",
       "\n",
       "    .dataframe thead th {\n",
       "        text-align: right;\n",
       "    }\n",
       "</style>\n",
       "<table border=\"1\" class=\"dataframe\">\n",
       "  <thead>\n",
       "    <tr style=\"text-align: right;\">\n",
       "      <th></th>\n",
       "      <th>label</th>\n",
       "      <th>1x1</th>\n",
       "      <th>1x2</th>\n",
       "      <th>1x3</th>\n",
       "      <th>1x4</th>\n",
       "      <th>1x5</th>\n",
       "      <th>1x6</th>\n",
       "      <th>1x7</th>\n",
       "      <th>1x8</th>\n",
       "      <th>1x9</th>\n",
       "      <th>...</th>\n",
       "      <th>28x19</th>\n",
       "      <th>28x20</th>\n",
       "      <th>28x21</th>\n",
       "      <th>28x22</th>\n",
       "      <th>28x23</th>\n",
       "      <th>28x24</th>\n",
       "      <th>28x25</th>\n",
       "      <th>28x26</th>\n",
       "      <th>28x27</th>\n",
       "      <th>28x28</th>\n",
       "    </tr>\n",
       "  </thead>\n",
       "  <tbody>\n",
       "    <tr>\n",
       "      <th>0</th>\n",
       "      <td>5</td>\n",
       "      <td>0</td>\n",
       "      <td>0</td>\n",
       "      <td>0</td>\n",
       "      <td>0</td>\n",
       "      <td>0</td>\n",
       "      <td>0</td>\n",
       "      <td>0</td>\n",
       "      <td>0</td>\n",
       "      <td>0</td>\n",
       "      <td>...</td>\n",
       "      <td>0</td>\n",
       "      <td>0</td>\n",
       "      <td>0</td>\n",
       "      <td>0</td>\n",
       "      <td>0</td>\n",
       "      <td>0</td>\n",
       "      <td>0</td>\n",
       "      <td>0</td>\n",
       "      <td>0</td>\n",
       "      <td>0</td>\n",
       "    </tr>\n",
       "    <tr>\n",
       "      <th>1</th>\n",
       "      <td>0</td>\n",
       "      <td>0</td>\n",
       "      <td>0</td>\n",
       "      <td>0</td>\n",
       "      <td>0</td>\n",
       "      <td>0</td>\n",
       "      <td>0</td>\n",
       "      <td>0</td>\n",
       "      <td>0</td>\n",
       "      <td>0</td>\n",
       "      <td>...</td>\n",
       "      <td>0</td>\n",
       "      <td>0</td>\n",
       "      <td>0</td>\n",
       "      <td>0</td>\n",
       "      <td>0</td>\n",
       "      <td>0</td>\n",
       "      <td>0</td>\n",
       "      <td>0</td>\n",
       "      <td>0</td>\n",
       "      <td>0</td>\n",
       "    </tr>\n",
       "    <tr>\n",
       "      <th>2</th>\n",
       "      <td>4</td>\n",
       "      <td>0</td>\n",
       "      <td>0</td>\n",
       "      <td>0</td>\n",
       "      <td>0</td>\n",
       "      <td>0</td>\n",
       "      <td>0</td>\n",
       "      <td>0</td>\n",
       "      <td>0</td>\n",
       "      <td>0</td>\n",
       "      <td>...</td>\n",
       "      <td>0</td>\n",
       "      <td>0</td>\n",
       "      <td>0</td>\n",
       "      <td>0</td>\n",
       "      <td>0</td>\n",
       "      <td>0</td>\n",
       "      <td>0</td>\n",
       "      <td>0</td>\n",
       "      <td>0</td>\n",
       "      <td>0</td>\n",
       "    </tr>\n",
       "    <tr>\n",
       "      <th>3</th>\n",
       "      <td>1</td>\n",
       "      <td>0</td>\n",
       "      <td>0</td>\n",
       "      <td>0</td>\n",
       "      <td>0</td>\n",
       "      <td>0</td>\n",
       "      <td>0</td>\n",
       "      <td>0</td>\n",
       "      <td>0</td>\n",
       "      <td>0</td>\n",
       "      <td>...</td>\n",
       "      <td>0</td>\n",
       "      <td>0</td>\n",
       "      <td>0</td>\n",
       "      <td>0</td>\n",
       "      <td>0</td>\n",
       "      <td>0</td>\n",
       "      <td>0</td>\n",
       "      <td>0</td>\n",
       "      <td>0</td>\n",
       "      <td>0</td>\n",
       "    </tr>\n",
       "    <tr>\n",
       "      <th>4</th>\n",
       "      <td>9</td>\n",
       "      <td>0</td>\n",
       "      <td>0</td>\n",
       "      <td>0</td>\n",
       "      <td>0</td>\n",
       "      <td>0</td>\n",
       "      <td>0</td>\n",
       "      <td>0</td>\n",
       "      <td>0</td>\n",
       "      <td>0</td>\n",
       "      <td>...</td>\n",
       "      <td>0</td>\n",
       "      <td>0</td>\n",
       "      <td>0</td>\n",
       "      <td>0</td>\n",
       "      <td>0</td>\n",
       "      <td>0</td>\n",
       "      <td>0</td>\n",
       "      <td>0</td>\n",
       "      <td>0</td>\n",
       "      <td>0</td>\n",
       "    </tr>\n",
       "    <tr>\n",
       "      <th>...</th>\n",
       "      <td>...</td>\n",
       "      <td>...</td>\n",
       "      <td>...</td>\n",
       "      <td>...</td>\n",
       "      <td>...</td>\n",
       "      <td>...</td>\n",
       "      <td>...</td>\n",
       "      <td>...</td>\n",
       "      <td>...</td>\n",
       "      <td>...</td>\n",
       "      <td>...</td>\n",
       "      <td>...</td>\n",
       "      <td>...</td>\n",
       "      <td>...</td>\n",
       "      <td>...</td>\n",
       "      <td>...</td>\n",
       "      <td>...</td>\n",
       "      <td>...</td>\n",
       "      <td>...</td>\n",
       "      <td>...</td>\n",
       "      <td>...</td>\n",
       "    </tr>\n",
       "    <tr>\n",
       "      <th>19995</th>\n",
       "      <td>9</td>\n",
       "      <td>0</td>\n",
       "      <td>0</td>\n",
       "      <td>0</td>\n",
       "      <td>0</td>\n",
       "      <td>0</td>\n",
       "      <td>0</td>\n",
       "      <td>0</td>\n",
       "      <td>0</td>\n",
       "      <td>0</td>\n",
       "      <td>...</td>\n",
       "      <td>0</td>\n",
       "      <td>0</td>\n",
       "      <td>0</td>\n",
       "      <td>0</td>\n",
       "      <td>0</td>\n",
       "      <td>0</td>\n",
       "      <td>0</td>\n",
       "      <td>0</td>\n",
       "      <td>0</td>\n",
       "      <td>0</td>\n",
       "    </tr>\n",
       "    <tr>\n",
       "      <th>19996</th>\n",
       "      <td>5</td>\n",
       "      <td>0</td>\n",
       "      <td>0</td>\n",
       "      <td>0</td>\n",
       "      <td>0</td>\n",
       "      <td>0</td>\n",
       "      <td>0</td>\n",
       "      <td>0</td>\n",
       "      <td>0</td>\n",
       "      <td>0</td>\n",
       "      <td>...</td>\n",
       "      <td>0</td>\n",
       "      <td>0</td>\n",
       "      <td>0</td>\n",
       "      <td>0</td>\n",
       "      <td>0</td>\n",
       "      <td>0</td>\n",
       "      <td>0</td>\n",
       "      <td>0</td>\n",
       "      <td>0</td>\n",
       "      <td>0</td>\n",
       "    </tr>\n",
       "    <tr>\n",
       "      <th>19997</th>\n",
       "      <td>1</td>\n",
       "      <td>0</td>\n",
       "      <td>0</td>\n",
       "      <td>0</td>\n",
       "      <td>0</td>\n",
       "      <td>0</td>\n",
       "      <td>0</td>\n",
       "      <td>0</td>\n",
       "      <td>0</td>\n",
       "      <td>0</td>\n",
       "      <td>...</td>\n",
       "      <td>0</td>\n",
       "      <td>0</td>\n",
       "      <td>0</td>\n",
       "      <td>0</td>\n",
       "      <td>0</td>\n",
       "      <td>0</td>\n",
       "      <td>0</td>\n",
       "      <td>0</td>\n",
       "      <td>0</td>\n",
       "      <td>0</td>\n",
       "    </tr>\n",
       "    <tr>\n",
       "      <th>19998</th>\n",
       "      <td>4</td>\n",
       "      <td>0</td>\n",
       "      <td>0</td>\n",
       "      <td>0</td>\n",
       "      <td>0</td>\n",
       "      <td>0</td>\n",
       "      <td>0</td>\n",
       "      <td>0</td>\n",
       "      <td>0</td>\n",
       "      <td>0</td>\n",
       "      <td>...</td>\n",
       "      <td>0</td>\n",
       "      <td>0</td>\n",
       "      <td>0</td>\n",
       "      <td>0</td>\n",
       "      <td>0</td>\n",
       "      <td>0</td>\n",
       "      <td>0</td>\n",
       "      <td>0</td>\n",
       "      <td>0</td>\n",
       "      <td>0</td>\n",
       "    </tr>\n",
       "    <tr>\n",
       "      <th>19999</th>\n",
       "      <td>2</td>\n",
       "      <td>0</td>\n",
       "      <td>0</td>\n",
       "      <td>0</td>\n",
       "      <td>0</td>\n",
       "      <td>0</td>\n",
       "      <td>0</td>\n",
       "      <td>0</td>\n",
       "      <td>0</td>\n",
       "      <td>0</td>\n",
       "      <td>...</td>\n",
       "      <td>0</td>\n",
       "      <td>0</td>\n",
       "      <td>0</td>\n",
       "      <td>0</td>\n",
       "      <td>0</td>\n",
       "      <td>0</td>\n",
       "      <td>0</td>\n",
       "      <td>0</td>\n",
       "      <td>0</td>\n",
       "      <td>0</td>\n",
       "    </tr>\n",
       "  </tbody>\n",
       "</table>\n",
       "<p>20000 rows × 785 columns</p>\n",
       "</div>"
      ],
      "text/plain": [
       "       label  1x1  1x2  1x3  1x4  1x5  1x6  1x7  1x8  1x9  ...  28x19  28x20  \\\n",
       "0          5    0    0    0    0    0    0    0    0    0  ...      0      0   \n",
       "1          0    0    0    0    0    0    0    0    0    0  ...      0      0   \n",
       "2          4    0    0    0    0    0    0    0    0    0  ...      0      0   \n",
       "3          1    0    0    0    0    0    0    0    0    0  ...      0      0   \n",
       "4          9    0    0    0    0    0    0    0    0    0  ...      0      0   \n",
       "...      ...  ...  ...  ...  ...  ...  ...  ...  ...  ...  ...    ...    ...   \n",
       "19995      9    0    0    0    0    0    0    0    0    0  ...      0      0   \n",
       "19996      5    0    0    0    0    0    0    0    0    0  ...      0      0   \n",
       "19997      1    0    0    0    0    0    0    0    0    0  ...      0      0   \n",
       "19998      4    0    0    0    0    0    0    0    0    0  ...      0      0   \n",
       "19999      2    0    0    0    0    0    0    0    0    0  ...      0      0   \n",
       "\n",
       "       28x21  28x22  28x23  28x24  28x25  28x26  28x27  28x28  \n",
       "0          0      0      0      0      0      0      0      0  \n",
       "1          0      0      0      0      0      0      0      0  \n",
       "2          0      0      0      0      0      0      0      0  \n",
       "3          0      0      0      0      0      0      0      0  \n",
       "4          0      0      0      0      0      0      0      0  \n",
       "...      ...    ...    ...    ...    ...    ...    ...    ...  \n",
       "19995      0      0      0      0      0      0      0      0  \n",
       "19996      0      0      0      0      0      0      0      0  \n",
       "19997      0      0      0      0      0      0      0      0  \n",
       "19998      0      0      0      0      0      0      0      0  \n",
       "19999      0      0      0      0      0      0      0      0  \n",
       "\n",
       "[20000 rows x 785 columns]"
      ]
     },
     "execution_count": 6,
     "metadata": {},
     "output_type": "execute_result"
    }
   ],
   "source": [
    "mnist = pd.read_csv(\"mnist.csv\")\n",
    "mnist"
   ]
  },
  {
   "cell_type": "code",
   "execution_count": null,
   "id": "8aca365d",
   "metadata": {},
   "outputs": [],
   "source": [
    "# Check if there are any missing values...\n",
    "\n",
    "mnist.isna().any(axis=1).sum()\n",
    "\n",
    "# Nope! We're good to go."
   ]
  },
  {
   "cell_type": "markdown",
   "id": "bee757b2",
   "metadata": {},
   "source": [
    "Splitting into training and test set. X is often used to denote features; y refers to the target.\n",
    "\n",
    "(Changing the random_state parameter in the train_test_split function to a different number will result in a different random split of the data. Try playing around with it and then running your model(s) again to see how a different split might result in a different score.)"
   ]
  },
  {
   "cell_type": "code",
   "execution_count": null,
   "id": "45b22ecf",
   "metadata": {},
   "outputs": [],
   "source": [
    "from sklearn.model_selection import train_test_split\n",
    "\n",
    "features_train_orig, features_test_orig, target_train_orig, target_test_orig = train_test_split(mnist.iloc[:,1:], \n",
    "                                                    mnist.iloc[:,0], \n",
    "                                                    random_state=99)"
   ]
  },
  {
   "cell_type": "markdown",
   "id": "fef1fbbd",
   "metadata": {},
   "source": [
    "Let's start with our good old k-NN classifier...\n",
    "\n",
    "Note that even this subset I've taken of the mnist dataset is quite large, with 20,000 samples and 784 features. Because of this, model-building / prediction can take some time.\n",
    "\n",
    "However, we can save a bit of time by using the n_jobs parameter when building a model. Setting n_jobs=-1 (as done below) tells sklearn to use all of your CPU cores, whereas by default it will only use 1. This means that if your PC has 8 CPU cores, building the model will be 8 times as fast!"
   ]
  },
  {
   "cell_type": "code",
   "execution_count": null,
   "id": "87cbbcad",
   "metadata": {},
   "outputs": [],
   "source": [
    "from sklearn.neighbors import KNeighborsClassifier\n",
    "\n",
    "knn = KNeighborsClassifier(n_neighbors=9, weights=\"uniform\", n_jobs=-1).fit(features_train_orig, target_train_orig)\n",
    "print(\"Training set score: {:.4f}\".format(knn.score(features_train_orig, target_train_orig)))\n",
    "print(\"Test set score: {:.4f}\".format(knn.score(features_test_orig, target_test_orig)))"
   ]
  },
  {
   "cell_type": "markdown",
   "id": "793286b2",
   "metadata": {},
   "source": [
    "Now, it's your turn to use any of the models we've discussed to see how well they perform on this task. Note that this is a classification problem, so only classification models will work on it. Perhaps even more important than choosing a classifier is trying out different parameter settings (e.g. n_neighbors for k-Nearest Neighbors, C for Logistic Regression, n_estimators for the Random Forest Classifier, etc...). \n",
    "\n",
    "Below are the classification models we've discussed, along with the import statement and the parameters that we've covered during the sessions.\n",
    "\n",
    "- **k-Nearest Neighbors Classifier** (already imported in the cell above)\n",
    "    - n_neighbors (any number above 0)\n",
    "    - weights (\"uniform\", \"distance\")\n",
    "- **Logistic Regression** (from sklearn.linear_model import LogisticRegression)\n",
    "    - C\n",
    "- **Linear Support Vector Machine** (from sklearn.svm import LinearSVC)\n",
    "    - C\n",
    "- **Decision Tree Classifier** (from sklearn.tree import DecisionTreeClassifier)\n",
    "    - max_depth (a whole number above 0)\n",
    "    - min_samples_split (a whole number above 1)\n",
    "- **Random Forest Classifier** (from sklearn.ensemble import RandomForestClassifier)\n",
    "    - n_estimators (a whole number above 0)\n",
    "    - max_depth (a whole number above 0)\n",
    "    - min_samples_split (a whole number above 1)\n",
    "- **Gradient Boosting Classifier** (from sklearn.ensemble import GradientBoostingClassifier)\n",
    "    - n_estimators (a whole number above 0)\n",
    "    - max_depth (a whole number above 0)\n",
    "    - min_samples_split (a whole number above 1)\n",
    "    - learning_rate (a number between 0 and 1)\n",
    "    - subsample (a number between 0 and 1)\n",
    "    \n",
    "If you want to access even more parameter settings than we've discussed in class (models tend to have a lot), you can also access the sklearn documentation. For example, [here](https://scikit-learn.org/stable/modules/generated/sklearn.neighbors.KNeighborsClassifier.html), you can find all possible parameters to tune for the KNeighborsClassifier.\n",
    "\n",
    "Good luck and feel free to share your model (and the results you obtain with it) on the Canvas discussion page!"
   ]
  },
  {
   "cell_type": "code",
   "execution_count": null,
   "id": "67eb4f17",
   "metadata": {},
   "outputs": [],
   "source": [
    "# Check if dataset is severely imbalanced\n",
    "\n",
    "target_train_orig.value_counts()"
   ]
  },
  {
   "cell_type": "code",
   "execution_count": 7,
   "id": "3484a848",
   "metadata": {},
   "outputs": [
    {
     "name": "stdout",
     "output_type": "stream",
     "text": [
      "88\n"
     ]
    }
   ],
   "source": [
    "# A quick look at the dataset showed me there are a lot of 0 values; let's check if there are any columns that only contain \n",
    "# the value 0 (i.e., pixels that are always black)\n",
    "\n",
    "blackPixels = [col for col in mnist.columns if len(mnist[col].value_counts()) == 1]\n",
    "\n",
    "print(len(blackPixels))"
   ]
  },
  {
   "cell_type": "code",
   "execution_count": 8,
   "id": "e622cf20",
   "metadata": {},
   "outputs": [],
   "source": [
    "# Drop columns that represent always-black pixels\n",
    "\n",
    "mnistDrop = mnist.drop(columns=blackPixels)"
   ]
  },
  {
   "cell_type": "code",
   "execution_count": 9,
   "id": "bf03bd3d",
   "metadata": {},
   "outputs": [
    {
     "data": {
      "text/plain": [
       "(20000, 697)"
      ]
     },
     "execution_count": 9,
     "metadata": {},
     "output_type": "execute_result"
    }
   ],
   "source": [
    "mnistDrop.shape"
   ]
  },
  {
   "cell_type": "code",
   "execution_count": 10,
   "id": "00e07429",
   "metadata": {},
   "outputs": [],
   "source": [
    "features_train, features_test, target_train, target_test = train_test_split(mnistDrop.iloc[:,1:], \n",
    "                                                    mnistDrop.iloc[:,0], \n",
    "                                                    random_state=99)"
   ]
  },
  {
   "cell_type": "code",
   "execution_count": 11,
   "id": "92e83597",
   "metadata": {},
   "outputs": [
    {
     "name": "stdout",
     "output_type": "stream",
     "text": [
      "Training set score: 0.9611\n",
      "Test set score: 0.9530\n"
     ]
    }
   ],
   "source": [
    "knn = KNeighborsClassifier(n_neighbors=9, weights=\"uniform\", n_jobs=-1).fit(features_train, target_train)\n",
    "print(\"Training set score: {:.4f}\".format(knn.score(features_train, target_train)))\n",
    "print(\"Test set score: {:.4f}\".format(knn.score(features_test, target_test)))"
   ]
  },
  {
   "cell_type": "code",
   "execution_count": 12,
   "id": "06e127a0",
   "metadata": {},
   "outputs": [],
   "source": [
    "from sklearn.decomposition import PCA\n",
    "\n",
    "pca = PCA(n_components=50).fit(features_train)"
   ]
  },
  {
   "cell_type": "code",
   "execution_count": 13,
   "id": "07b6a8ec",
   "metadata": {},
   "outputs": [],
   "source": [
    "features_train_pca = pca.transform(features_train)\n",
    "features_test_pca = pca.transform(features_test)"
   ]
  },
  {
   "cell_type": "code",
   "execution_count": 14,
   "id": "1dae01a3",
   "metadata": {
    "collapsed": true
   },
   "outputs": [
    {
     "data": {
      "text/plain": [
       "(15000, 50)"
      ]
     },
     "execution_count": 14,
     "metadata": {},
     "output_type": "execute_result"
    }
   ],
   "source": [
    "features_train_pca.shape"
   ]
  },
  {
   "cell_type": "code",
   "execution_count": 15,
   "id": "9ab03fd8",
   "metadata": {},
   "outputs": [
    {
     "data": {
      "text/plain": [
       "array([0.09794677, 0.07069217, 0.06328297, 0.05414519, 0.04759123,\n",
       "       0.04382618, 0.03311007, 0.02918973, 0.02805863, 0.02331482,\n",
       "       0.02121933, 0.02039002, 0.01702231, 0.01679043, 0.01605536,\n",
       "       0.01517092, 0.01309695, 0.01261572, 0.01195587, 0.01131348,\n",
       "       0.01039957, 0.01015124, 0.00963   , 0.0091933 , 0.00883047,\n",
       "       0.00835529, 0.00815312, 0.00783098, 0.00733913, 0.00689106,\n",
       "       0.00663477, 0.00642329, 0.00600665, 0.00578617, 0.00562667,\n",
       "       0.00533303, 0.00498737, 0.00483534, 0.00481231, 0.00470376,\n",
       "       0.00452563, 0.00430909, 0.00418882, 0.00398365, 0.00385136,\n",
       "       0.00376511, 0.00359635, 0.00344722, 0.00337862, 0.00321056])"
      ]
     },
     "execution_count": 15,
     "metadata": {},
     "output_type": "execute_result"
    }
   ],
   "source": [
    "pca.explained_variance_ratio_"
   ]
  },
  {
   "cell_type": "code",
   "execution_count": 16,
   "id": "26886530",
   "metadata": {
    "scrolled": true
   },
   "outputs": [
    {
     "data": {
      "text/plain": [
       "0.8269680981401103"
      ]
     },
     "execution_count": 16,
     "metadata": {},
     "output_type": "execute_result"
    }
   ],
   "source": [
    "sum(pca.explained_variance_ratio_)"
   ]
  },
  {
   "cell_type": "code",
   "execution_count": 17,
   "id": "c1c291e2",
   "metadata": {
    "scrolled": true
   },
   "outputs": [
    {
     "name": "stdout",
     "output_type": "stream",
     "text": [
      "Training set score: 0.9697\n",
      "Test set score: 0.9608\n"
     ]
    }
   ],
   "source": [
    "knn = KNeighborsClassifier(n_neighbors=9, weights=\"uniform\", n_jobs=-1).fit(features_train_pca, target_train)\n",
    "print(\"Training set score: {:.4f}\".format(knn.score(features_train_pca, target_train)))\n",
    "print(\"Test set score: {:.4f}\".format(knn.score(features_test_pca, target_test)))"
   ]
  },
  {
   "cell_type": "code",
   "execution_count": 18,
   "id": "1c2bf45a",
   "metadata": {},
   "outputs": [
    {
     "data": {
      "image/png": "[encoded data removed]",
      "text/plain": [
       "<Figure size 432x864 with 10 Axes>"
      ]
     },
     "metadata": {},
     "output_type": "display_data"
    }
   ],
   "source": [
    "# Visualizing the 'eigendigits'\n",
    "\n",
    "pca_orig = PCA(n_components=50).fit(features_train_orig)\n",
    "\n",
    "pca_orig.components_\n",
    "\n",
    "fig, axes = plt.subplots(5, 2, figsize=(6,12))\n",
    "\n",
    "for i in range(10):\n",
    "    axes[i//2][i%2].imshow(np.reshape(pca_orig.components_[i,:], (28,28)), cmap=\"Greys\")\n",
    "    plt.subplots_adjust(wspace=None, hspace=None)"
   ]
  },
  {
   "cell_type": "code",
   "execution_count": null,
   "id": "bb865286",
   "metadata": {},
   "outputs": [],
   "source": [
    "# let's zoom in on our model's misclassifications...\n",
    "target_pred = knn.predict(features_test_pca)"
   ]
  },
  {
   "cell_type": "code",
   "execution_count": null,
   "id": "b8f7ff28",
   "metadata": {},
   "outputs": [],
   "source": [
    "from sklearn.metrics import confusion_matrix\n",
    "\n",
    "confusion = confusion_matrix(target_test, target_pred)"
   ]
  },
  {
   "cell_type": "code",
   "execution_count": null,
   "id": "0a328590",
   "metadata": {},
   "outputs": [],
   "source": [
    "from sklearn.metrics import ConfusionMatrixDisplay\n",
    "\n",
    "disp = ConfusionMatrixDisplay(confusion_matrix=confusion, display_labels=[x for x in range(10)])\n",
    "\n",
    "disp.plot()\n",
    "plt.show()"
   ]
  },
  {
   "cell_type": "code",
   "execution_count": null,
   "id": "ed8047f5",
   "metadata": {},
   "outputs": [],
   "source": [
    "fours_as_nines = features_test_orig[(target_test==4) & (target_pred==9)].reset_index(drop=True)\n",
    "\n",
    "fours_as_nines"
   ]
  },
  {
   "cell_type": "code",
   "execution_count": null,
   "id": "9ae44ed0",
   "metadata": {},
   "outputs": [],
   "source": [
    "fig, axes = plt.subplots(nrows=5, ncols=5, figsize=(20,20))\n",
    "\n",
    "for index, row in fours_as_nines.iterrows():\n",
    "    #print(index//5, index%5)\n",
    "    axes[index//5][index%5].imshow(row.values.reshape((28,28)), cmap=\"Greys_r\")\n",
    "    \n",
    "plt.show()"
   ]
  },
  {
   "cell_type": "code",
   "execution_count": null,
   "id": "0abe04e0",
   "metadata": {},
   "outputs": [],
   "source": [
    "from sklearn.ensemble import GradientBoostingClassifier\n",
    "\n",
    "gbc = GradientBoostingClassifier(n_estimators=1000, max_depth=3, subsample=1, learning_rate=0.1, random_state=99, n_jobs=-1, verbose=1)\n",
    "gbc.fit(features_train_pca, target_train)\n",
    "\n",
    "print(\"Accuracy on training set: {:.4f}\".format(gbc.score(features_train_pca, target_train)))\n",
    "print(\"Accuracy on test set: {:.4f}\".format(gbc.score(features_test_pca, target_test)))"
   ]
  },
  {
   "cell_type": "code",
   "execution_count": null,
   "id": "1ed0abb2",
   "metadata": {},
   "outputs": [],
   "source": [
    "from sklearn.ensemble import RandomForestClassifier\n",
    "\n",
    "rfr = RandomForestClassifier(n_estimators=1000, random_state=99, n_jobs=-1, verbose=1)\n",
    "rfr.fit(features_train_pca, target_train)\n",
    "\n",
    "print(\"Accuracy on training set: {:.4f}\".format(rfr.score(features_train_pca, target_train)))\n",
    "print(\"Accuracy on test set: {:.4f}\".format(rfr.score(features_test_pca, target_test)))"
   ]
  },
  {
   "cell_type": "code",
   "execution_count": null,
   "id": "eb086a3d",
   "metadata": {},
   "outputs": [],
   "source": [
    "rfr.feature_importances_"
   ]
  },
  {
   "cell_type": "code",
   "execution_count": null,
   "id": "8cac4692",
   "metadata": {},
   "outputs": [],
   "source": [
    "mnistDrop[\"total\"] = mnistDrop.iloc[:,1:].sum(axis=1)\n",
    "\n",
    "mnistDrop[\"total\"].idxmin()"
   ]
  }
 ],
 "metadata": {
  "kernelspec": {
   "display_name": "Python 3 (ipykernel)",
   "language": "python",
   "name": "python3"
  },
  "language_info": {
   "codemirror_mode": {
    "name": "ipython",
    "version": 3
   },
   "file_extension": ".py",
   "mimetype": "text/x-python",
   "name": "python",
   "nbconvert_exporter": "python",
   "pygments_lexer": "ipython3",
   "version": "3.9.7"
  }
 },
 "nbformat": 4,
 "nbformat_minor": 5
}
