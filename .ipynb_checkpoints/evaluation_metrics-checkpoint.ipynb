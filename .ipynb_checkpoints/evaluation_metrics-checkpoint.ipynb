{
 "cells": [
  {
   "cell_type": "code",
   "execution_count": 1,
   "id": "5d6e3f0c",
   "metadata": {},
   "outputs": [],
   "source": [
    "# importing libraries, etc...\n",
    "\n",
    "import pandas as pd\n",
    "import seaborn as sns\n",
    "import numpy as np\n",
    "import seaborn as sns\n",
    "from sklearn.model_selection import train_test_split\n",
    "import matplotlib.pyplot as plt\n",
    "%matplotlib inline\n",
    "sns.set()"
   ]
  },
  {
   "cell_type": "code",
   "execution_count": 3,
   "id": "9cbe9d06",
   "metadata": {
    "collapsed": true
   },
   "outputs": [
    {
     "data": {
      "text/html": [
       "<div>\n",
       "<style scoped>\n",
       "    .dataframe tbody tr th:only-of-type {\n",
       "        vertical-align: middle;\n",
       "    }\n",
       "\n",
       "    .dataframe tbody tr th {\n",
       "        vertical-align: top;\n",
       "    }\n",
       "\n",
       "    .dataframe thead th {\n",
       "        text-align: right;\n",
       "    }\n",
       "</style>\n",
       "<table border=\"1\" class=\"dataframe\">\n",
       "  <thead>\n",
       "    <tr style=\"text-align: right;\">\n",
       "      <th></th>\n",
       "      <th>diagnosis</th>\n",
       "      <th>radius_mean</th>\n",
       "      <th>texture_mean</th>\n",
       "      <th>perimeter_mean</th>\n",
       "      <th>area_mean</th>\n",
       "      <th>smoothness_mean</th>\n",
       "      <th>compactness_mean</th>\n",
       "      <th>concavity_mean</th>\n",
       "      <th>concave points_mean</th>\n",
       "      <th>symmetry_mean</th>\n",
       "      <th>...</th>\n",
       "      <th>radius_worst</th>\n",
       "      <th>texture_worst</th>\n",
       "      <th>perimeter_worst</th>\n",
       "      <th>area_worst</th>\n",
       "      <th>smoothness_worst</th>\n",
       "      <th>compactness_worst</th>\n",
       "      <th>concavity_worst</th>\n",
       "      <th>concave points_worst</th>\n",
       "      <th>symmetry_worst</th>\n",
       "      <th>fractal_dimension_worst</th>\n",
       "    </tr>\n",
       "  </thead>\n",
       "  <tbody>\n",
       "    <tr>\n",
       "      <th>0</th>\n",
       "      <td>M</td>\n",
       "      <td>17.99</td>\n",
       "      <td>10.38</td>\n",
       "      <td>122.80</td>\n",
       "      <td>1001.0</td>\n",
       "      <td>0.11840</td>\n",
       "      <td>0.27760</td>\n",
       "      <td>0.30010</td>\n",
       "      <td>0.14710</td>\n",
       "      <td>0.2419</td>\n",
       "      <td>...</td>\n",
       "      <td>25.380</td>\n",
       "      <td>17.33</td>\n",
       "      <td>184.60</td>\n",
       "      <td>2019.0</td>\n",
       "      <td>0.16220</td>\n",
       "      <td>0.66560</td>\n",
       "      <td>0.7119</td>\n",
       "      <td>0.2654</td>\n",
       "      <td>0.4601</td>\n",
       "      <td>0.11890</td>\n",
       "    </tr>\n",
       "    <tr>\n",
       "      <th>1</th>\n",
       "      <td>M</td>\n",
       "      <td>20.57</td>\n",
       "      <td>17.77</td>\n",
       "      <td>132.90</td>\n",
       "      <td>1326.0</td>\n",
       "      <td>0.08474</td>\n",
       "      <td>0.07864</td>\n",
       "      <td>0.08690</td>\n",
       "      <td>0.07017</td>\n",
       "      <td>0.1812</td>\n",
       "      <td>...</td>\n",
       "      <td>24.990</td>\n",
       "      <td>23.41</td>\n",
       "      <td>158.80</td>\n",
       "      <td>1956.0</td>\n",
       "      <td>0.12380</td>\n",
       "      <td>0.18660</td>\n",
       "      <td>0.2416</td>\n",
       "      <td>0.1860</td>\n",
       "      <td>0.2750</td>\n",
       "      <td>0.08902</td>\n",
       "    </tr>\n",
       "    <tr>\n",
       "      <th>2</th>\n",
       "      <td>M</td>\n",
       "      <td>19.69</td>\n",
       "      <td>21.25</td>\n",
       "      <td>130.00</td>\n",
       "      <td>1203.0</td>\n",
       "      <td>0.10960</td>\n",
       "      <td>0.15990</td>\n",
       "      <td>0.19740</td>\n",
       "      <td>0.12790</td>\n",
       "      <td>0.2069</td>\n",
       "      <td>...</td>\n",
       "      <td>23.570</td>\n",
       "      <td>25.53</td>\n",
       "      <td>152.50</td>\n",
       "      <td>1709.0</td>\n",
       "      <td>0.14440</td>\n",
       "      <td>0.42450</td>\n",
       "      <td>0.4504</td>\n",
       "      <td>0.2430</td>\n",
       "      <td>0.3613</td>\n",
       "      <td>0.08758</td>\n",
       "    </tr>\n",
       "    <tr>\n",
       "      <th>3</th>\n",
       "      <td>M</td>\n",
       "      <td>11.42</td>\n",
       "      <td>20.38</td>\n",
       "      <td>77.58</td>\n",
       "      <td>386.1</td>\n",
       "      <td>0.14250</td>\n",
       "      <td>0.28390</td>\n",
       "      <td>0.24140</td>\n",
       "      <td>0.10520</td>\n",
       "      <td>0.2597</td>\n",
       "      <td>...</td>\n",
       "      <td>14.910</td>\n",
       "      <td>26.50</td>\n",
       "      <td>98.87</td>\n",
       "      <td>567.7</td>\n",
       "      <td>0.20980</td>\n",
       "      <td>0.86630</td>\n",
       "      <td>0.6869</td>\n",
       "      <td>0.2575</td>\n",
       "      <td>0.6638</td>\n",
       "      <td>0.17300</td>\n",
       "    </tr>\n",
       "    <tr>\n",
       "      <th>4</th>\n",
       "      <td>M</td>\n",
       "      <td>20.29</td>\n",
       "      <td>14.34</td>\n",
       "      <td>135.10</td>\n",
       "      <td>1297.0</td>\n",
       "      <td>0.10030</td>\n",
       "      <td>0.13280</td>\n",
       "      <td>0.19800</td>\n",
       "      <td>0.10430</td>\n",
       "      <td>0.1809</td>\n",
       "      <td>...</td>\n",
       "      <td>22.540</td>\n",
       "      <td>16.67</td>\n",
       "      <td>152.20</td>\n",
       "      <td>1575.0</td>\n",
       "      <td>0.13740</td>\n",
       "      <td>0.20500</td>\n",
       "      <td>0.4000</td>\n",
       "      <td>0.1625</td>\n",
       "      <td>0.2364</td>\n",
       "      <td>0.07678</td>\n",
       "    </tr>\n",
       "    <tr>\n",
       "      <th>...</th>\n",
       "      <td>...</td>\n",
       "      <td>...</td>\n",
       "      <td>...</td>\n",
       "      <td>...</td>\n",
       "      <td>...</td>\n",
       "      <td>...</td>\n",
       "      <td>...</td>\n",
       "      <td>...</td>\n",
       "      <td>...</td>\n",
       "      <td>...</td>\n",
       "      <td>...</td>\n",
       "      <td>...</td>\n",
       "      <td>...</td>\n",
       "      <td>...</td>\n",
       "      <td>...</td>\n",
       "      <td>...</td>\n",
       "      <td>...</td>\n",
       "      <td>...</td>\n",
       "      <td>...</td>\n",
       "      <td>...</td>\n",
       "      <td>...</td>\n",
       "    </tr>\n",
       "    <tr>\n",
       "      <th>564</th>\n",
       "      <td>M</td>\n",
       "      <td>21.56</td>\n",
       "      <td>22.39</td>\n",
       "      <td>142.00</td>\n",
       "      <td>1479.0</td>\n",
       "      <td>0.11100</td>\n",
       "      <td>0.11590</td>\n",
       "      <td>0.24390</td>\n",
       "      <td>0.13890</td>\n",
       "      <td>0.1726</td>\n",
       "      <td>...</td>\n",
       "      <td>25.450</td>\n",
       "      <td>26.40</td>\n",
       "      <td>166.10</td>\n",
       "      <td>2027.0</td>\n",
       "      <td>0.14100</td>\n",
       "      <td>0.21130</td>\n",
       "      <td>0.4107</td>\n",
       "      <td>0.2216</td>\n",
       "      <td>0.2060</td>\n",
       "      <td>0.07115</td>\n",
       "    </tr>\n",
       "    <tr>\n",
       "      <th>565</th>\n",
       "      <td>M</td>\n",
       "      <td>20.13</td>\n",
       "      <td>28.25</td>\n",
       "      <td>131.20</td>\n",
       "      <td>1261.0</td>\n",
       "      <td>0.09780</td>\n",
       "      <td>0.10340</td>\n",
       "      <td>0.14400</td>\n",
       "      <td>0.09791</td>\n",
       "      <td>0.1752</td>\n",
       "      <td>...</td>\n",
       "      <td>23.690</td>\n",
       "      <td>38.25</td>\n",
       "      <td>155.00</td>\n",
       "      <td>1731.0</td>\n",
       "      <td>0.11660</td>\n",
       "      <td>0.19220</td>\n",
       "      <td>0.3215</td>\n",
       "      <td>0.1628</td>\n",
       "      <td>0.2572</td>\n",
       "      <td>0.06637</td>\n",
       "    </tr>\n",
       "    <tr>\n",
       "      <th>566</th>\n",
       "      <td>M</td>\n",
       "      <td>16.60</td>\n",
       "      <td>28.08</td>\n",
       "      <td>108.30</td>\n",
       "      <td>858.1</td>\n",
       "      <td>0.08455</td>\n",
       "      <td>0.10230</td>\n",
       "      <td>0.09251</td>\n",
       "      <td>0.05302</td>\n",
       "      <td>0.1590</td>\n",
       "      <td>...</td>\n",
       "      <td>18.980</td>\n",
       "      <td>34.12</td>\n",
       "      <td>126.70</td>\n",
       "      <td>1124.0</td>\n",
       "      <td>0.11390</td>\n",
       "      <td>0.30940</td>\n",
       "      <td>0.3403</td>\n",
       "      <td>0.1418</td>\n",
       "      <td>0.2218</td>\n",
       "      <td>0.07820</td>\n",
       "    </tr>\n",
       "    <tr>\n",
       "      <th>567</th>\n",
       "      <td>M</td>\n",
       "      <td>20.60</td>\n",
       "      <td>29.33</td>\n",
       "      <td>140.10</td>\n",
       "      <td>1265.0</td>\n",
       "      <td>0.11780</td>\n",
       "      <td>0.27700</td>\n",
       "      <td>0.35140</td>\n",
       "      <td>0.15200</td>\n",
       "      <td>0.2397</td>\n",
       "      <td>...</td>\n",
       "      <td>25.740</td>\n",
       "      <td>39.42</td>\n",
       "      <td>184.60</td>\n",
       "      <td>1821.0</td>\n",
       "      <td>0.16500</td>\n",
       "      <td>0.86810</td>\n",
       "      <td>0.9387</td>\n",
       "      <td>0.2650</td>\n",
       "      <td>0.4087</td>\n",
       "      <td>0.12400</td>\n",
       "    </tr>\n",
       "    <tr>\n",
       "      <th>568</th>\n",
       "      <td>B</td>\n",
       "      <td>7.76</td>\n",
       "      <td>24.54</td>\n",
       "      <td>47.92</td>\n",
       "      <td>181.0</td>\n",
       "      <td>0.05263</td>\n",
       "      <td>0.04362</td>\n",
       "      <td>0.00000</td>\n",
       "      <td>0.00000</td>\n",
       "      <td>0.1587</td>\n",
       "      <td>...</td>\n",
       "      <td>9.456</td>\n",
       "      <td>30.37</td>\n",
       "      <td>59.16</td>\n",
       "      <td>268.6</td>\n",
       "      <td>0.08996</td>\n",
       "      <td>0.06444</td>\n",
       "      <td>0.0000</td>\n",
       "      <td>0.0000</td>\n",
       "      <td>0.2871</td>\n",
       "      <td>0.07039</td>\n",
       "    </tr>\n",
       "  </tbody>\n",
       "</table>\n",
       "<p>569 rows × 31 columns</p>\n",
       "</div>"
      ],
      "text/plain": [
       "    diagnosis  radius_mean  texture_mean  perimeter_mean  area_mean  \\\n",
       "0           M        17.99         10.38          122.80     1001.0   \n",
       "1           M        20.57         17.77          132.90     1326.0   \n",
       "2           M        19.69         21.25          130.00     1203.0   \n",
       "3           M        11.42         20.38           77.58      386.1   \n",
       "4           M        20.29         14.34          135.10     1297.0   \n",
       "..        ...          ...           ...             ...        ...   \n",
       "564         M        21.56         22.39          142.00     1479.0   \n",
       "565         M        20.13         28.25          131.20     1261.0   \n",
       "566         M        16.60         28.08          108.30      858.1   \n",
       "567         M        20.60         29.33          140.10     1265.0   \n",
       "568         B         7.76         24.54           47.92      181.0   \n",
       "\n",
       "     smoothness_mean  compactness_mean  concavity_mean  concave points_mean  \\\n",
       "0            0.11840           0.27760         0.30010              0.14710   \n",
       "1            0.08474           0.07864         0.08690              0.07017   \n",
       "2            0.10960           0.15990         0.19740              0.12790   \n",
       "3            0.14250           0.28390         0.24140              0.10520   \n",
       "4            0.10030           0.13280         0.19800              0.10430   \n",
       "..               ...               ...             ...                  ...   \n",
       "564          0.11100           0.11590         0.24390              0.13890   \n",
       "565          0.09780           0.10340         0.14400              0.09791   \n",
       "566          0.08455           0.10230         0.09251              0.05302   \n",
       "567          0.11780           0.27700         0.35140              0.15200   \n",
       "568          0.05263           0.04362         0.00000              0.00000   \n",
       "\n",
       "     symmetry_mean  ...  radius_worst  texture_worst  perimeter_worst  \\\n",
       "0           0.2419  ...        25.380          17.33           184.60   \n",
       "1           0.1812  ...        24.990          23.41           158.80   \n",
       "2           0.2069  ...        23.570          25.53           152.50   \n",
       "3           0.2597  ...        14.910          26.50            98.87   \n",
       "4           0.1809  ...        22.540          16.67           152.20   \n",
       "..             ...  ...           ...            ...              ...   \n",
       "564         0.1726  ...        25.450          26.40           166.10   \n",
       "565         0.1752  ...        23.690          38.25           155.00   \n",
       "566         0.1590  ...        18.980          34.12           126.70   \n",
       "567         0.2397  ...        25.740          39.42           184.60   \n",
       "568         0.1587  ...         9.456          30.37            59.16   \n",
       "\n",
       "     area_worst  smoothness_worst  compactness_worst  concavity_worst  \\\n",
       "0        2019.0           0.16220            0.66560           0.7119   \n",
       "1        1956.0           0.12380            0.18660           0.2416   \n",
       "2        1709.0           0.14440            0.42450           0.4504   \n",
       "3         567.7           0.20980            0.86630           0.6869   \n",
       "4        1575.0           0.13740            0.20500           0.4000   \n",
       "..          ...               ...                ...              ...   \n",
       "564      2027.0           0.14100            0.21130           0.4107   \n",
       "565      1731.0           0.11660            0.19220           0.3215   \n",
       "566      1124.0           0.11390            0.30940           0.3403   \n",
       "567      1821.0           0.16500            0.86810           0.9387   \n",
       "568       268.6           0.08996            0.06444           0.0000   \n",
       "\n",
       "     concave points_worst  symmetry_worst  fractal_dimension_worst  \n",
       "0                  0.2654          0.4601                  0.11890  \n",
       "1                  0.1860          0.2750                  0.08902  \n",
       "2                  0.2430          0.3613                  0.08758  \n",
       "3                  0.2575          0.6638                  0.17300  \n",
       "4                  0.1625          0.2364                  0.07678  \n",
       "..                    ...             ...                      ...  \n",
       "564                0.2216          0.2060                  0.07115  \n",
       "565                0.1628          0.2572                  0.06637  \n",
       "566                0.1418          0.2218                  0.07820  \n",
       "567                0.2650          0.4087                  0.12400  \n",
       "568                0.0000          0.2871                  0.07039  \n",
       "\n",
       "[569 rows x 31 columns]"
      ]
     },
     "execution_count": 3,
     "metadata": {},
     "output_type": "execute_result"
    }
   ],
   "source": [
    "# loading and viewing the Breast Cancer dataset\n",
    "\n",
    "bc = pd.read_csv(\"data/breast_cancer.csv\")\n",
    "bc = bc.iloc[:,1:-1]\n",
    "\n",
    "bc"
   ]
  },
  {
   "cell_type": "code",
   "execution_count": null,
   "id": "04a01ab4",
   "metadata": {},
   "outputs": [],
   "source": [
    "from sklearn.preprocessing import MinMaxScaler\n",
    "\n",
    "scaler = MinMaxScaler().fit(iris.iloc[:,:-1])\n",
    "iris.iloc[:,:-1] = scaler.transform(iris.iloc[:,:-1])\n",
    "iris"
   ]
  },
  {
   "cell_type": "code",
   "execution_count": 3,
   "id": "7306789d",
   "metadata": {},
   "outputs": [],
   "source": [
    "diagnosis = pd.get_dummies(data=bc[\"diagnosis\"], drop_first=True, prefix=\"diagnosis\")\n",
    "\n",
    "bc = pd.concat([diagnosis, bc], axis=1)\n",
    "bc = bc.drop(columns=\"diagnosis\")"
   ]
  },
  {
   "cell_type": "code",
   "execution_count": 4,
   "id": "ffe99897",
   "metadata": {},
   "outputs": [],
   "source": [
    "bc_features_train, bc_features_test, bc_target_train, bc_target_test = train_test_split(bc.iloc[:,1:],\n",
    "                                                                                       bc.iloc[:,0],\n",
    "                                                                                        test_size=0.35,\n",
    "                                                                                       random_state=99)"
   ]
  },
  {
   "cell_type": "code",
   "execution_count": 5,
   "id": "01289e1b",
   "metadata": {
    "collapsed": true
   },
   "outputs": [
    {
     "name": "stdout",
     "output_type": "stream",
     "text": [
      "Accuracy on training set: 0.9377\n",
      "Accuracy on test set: 0.9400\n"
     ]
    },
    {
     "name": "stderr",
     "output_type": "stream",
     "text": [
      "C:\\Users\\lenna\\Anaconda3\\lib\\site-packages\\sklearn\\linear_model\\_logistic.py:814: ConvergenceWarning: lbfgs failed to converge (status=1):\n",
      "STOP: TOTAL NO. of ITERATIONS REACHED LIMIT.\n",
      "\n",
      "Increase the number of iterations (max_iter) or scale the data as shown in:\n",
      "    https://scikit-learn.org/stable/modules/preprocessing.html\n",
      "Please also refer to the documentation for alternative solver options:\n",
      "    https://scikit-learn.org/stable/modules/linear_model.html#logistic-regression\n",
      "  n_iter_i = _check_optimize_result(\n"
     ]
    }
   ],
   "source": [
    "from sklearn.linear_model import LogisticRegression\n",
    "\n",
    "logreg = LogisticRegression(C=1, random_state=99)\n",
    "logreg.fit(bc_features_train, bc_target_train)\n",
    "\n",
    "print(\"Accuracy on training set: {:.4f}\".format(logreg.score(bc_features_train, bc_target_train)))\n",
    "print(\"Accuracy on test set: {:.4f}\".format(logreg.score(bc_features_test, bc_target_test)))"
   ]
  },
  {
   "cell_type": "code",
   "execution_count": 6,
   "id": "89421557",
   "metadata": {},
   "outputs": [
    {
     "data": {
      "text/plain": [
       "array([[129,   8],\n",
       "       [  4,  59]], dtype=int64)"
      ]
     },
     "execution_count": 6,
     "metadata": {},
     "output_type": "execute_result"
    }
   ],
   "source": [
    "# confusion matrix\n",
    "\n",
    "from sklearn.metrics import confusion_matrix\n",
    "\n",
    "pred_logreg = logreg.predict(bc_features_test)\n",
    "\n",
    "confusion_matrix(bc_target_test, pred_logreg)"
   ]
  },
  {
   "cell_type": "code",
   "execution_count": 8,
   "id": "3dbe5fae",
   "metadata": {},
   "outputs": [
    {
     "name": "stdout",
     "output_type": "stream",
     "text": [
      "Accuracy: 0.940\n",
      "Precision: 0.881\n",
      "Recall: 0.937\n",
      "F-Score: 0.908\n"
     ]
    }
   ],
   "source": [
    "# accuracy, precision, recall, f-score\n",
    "\n",
    "from sklearn.metrics import precision_score, recall_score, f1_score, accuracy_score\n",
    "\n",
    "print(\"Accuracy: {:.3f}\".format(accuracy_score(bc_target_test, pred_logreg)))\n",
    "print(\"Precision: {:.3f}\".format(precision_score(bc_target_test, pred_logreg)))\n",
    "print(\"Recall: {:.3f}\".format(recall_score(bc_target_test, pred_logreg)))\n",
    "print(\"F-Score: {:.3f}\".format(f1_score(bc_target_test, pred_logreg)))"
   ]
  },
  {
   "cell_type": "code",
   "execution_count": 9,
   "id": "a67de5ca",
   "metadata": {
    "collapsed": true
   },
   "outputs": [
    {
     "data": {
      "text/plain": [
       "array([5.28731892e-01, 8.56840516e-04, 1.37272007e-02, 5.16584770e-04,\n",
       "       4.67613336e-03, 9.99979049e-01, 9.99248674e-01, 1.00000000e+00,\n",
       "       1.59400902e-02, 6.95427240e-04, 9.99999335e-01, 3.81240590e-02,\n",
       "       9.99893962e-01, 7.20227777e-01, 3.80210815e-02, 9.99317321e-01,\n",
       "       1.00000000e+00, 1.37283779e-01, 4.43398912e-02, 5.58372338e-03,\n",
       "       9.97172339e-01, 4.93175575e-02, 1.23585600e-03, 4.35013758e-03,\n",
       "       9.99956114e-01, 7.75026737e-04, 1.01373447e-03, 5.35229312e-04,\n",
       "       6.09166131e-03, 6.25544746e-01, 1.00000000e+00, 1.66825908e-02,\n",
       "       1.07487537e-03, 2.87672719e-02, 1.80150311e-04, 1.58308885e-02,\n",
       "       8.59403801e-02, 4.70576018e-02, 7.76685005e-04, 4.30416660e-01,\n",
       "       2.21654571e-01, 4.06673472e-03, 3.29755188e-03, 9.60891626e-01,\n",
       "       2.61690519e-02, 7.37874710e-01, 2.66134146e-01, 1.54568377e-03,\n",
       "       9.99999942e-01, 6.92030325e-02, 4.64047374e-02, 9.99490306e-01,\n",
       "       9.40804678e-01, 1.01483113e-02, 9.99980276e-01, 1.26924853e-02,\n",
       "       2.47195446e-03, 3.77173393e-03, 2.41901497e-01, 2.14161444e-01,\n",
       "       9.99723785e-01, 1.00000000e+00, 9.99999998e-01, 4.09343543e-03,\n",
       "       9.99999994e-01, 1.35673427e-03, 2.93012389e-03, 5.40085599e-02,\n",
       "       1.72118893e-04, 9.99850721e-01, 4.64590153e-02, 1.00000000e+00,\n",
       "       9.99520296e-01, 4.80410623e-01, 9.99999131e-01, 9.99999999e-01,\n",
       "       9.94297187e-01, 9.99999120e-01, 9.99779366e-01, 2.97896549e-03,\n",
       "       3.43390082e-02, 3.27961310e-02, 4.07961484e-03, 2.78477225e-03,\n",
       "       1.00000000e+00, 4.59854909e-03, 6.72143030e-02, 6.90024867e-02,\n",
       "       3.59373889e-03, 6.68704893e-03, 9.99961669e-01, 2.01989326e-02,\n",
       "       2.88048898e-01, 6.58822551e-02, 9.99896895e-01, 9.99806055e-01,\n",
       "       9.99999936e-01, 9.56752548e-01, 1.11352475e-02, 6.88699317e-01,\n",
       "       3.53333369e-02, 2.32367249e-03, 6.82553955e-01, 5.73484867e-02,\n",
       "       1.71784935e-01, 7.25005739e-03, 1.66116560e-01, 2.83915835e-02,\n",
       "       7.89446458e-03, 2.75575471e-03, 6.71878116e-01, 9.97062495e-01,\n",
       "       3.02387300e-01, 1.36214334e-02, 1.18601097e-01, 3.80841611e-01,\n",
       "       9.83102201e-01, 1.45806828e-03, 2.18206956e-01, 4.56179592e-03,\n",
       "       3.42816985e-01, 1.11706955e-02, 9.99999991e-01, 5.71470563e-02,\n",
       "       9.97880396e-02, 4.79925214e-03, 9.87306432e-01, 1.61716564e-03,\n",
       "       3.78302310e-01, 9.99999901e-01, 1.48821818e-02, 9.89772930e-01,\n",
       "       4.46146044e-02, 1.60939218e-01, 2.15724845e-01, 1.99756753e-01,\n",
       "       8.79389211e-03, 1.22073875e-01, 6.73914044e-01, 6.85309208e-01,\n",
       "       2.44200790e-03, 4.33585440e-03, 5.50501038e-02, 1.00110052e-01,\n",
       "       9.30009932e-02, 6.80176361e-01, 1.75562821e-01, 6.46727308e-02,\n",
       "       1.12990128e-02, 7.34083284e-01, 1.00000000e+00, 7.94588710e-03,\n",
       "       2.83668783e-01, 9.87379854e-01, 9.99999606e-01, 1.58597054e-03,\n",
       "       6.41661358e-02, 9.67674716e-02, 6.96550782e-01, 9.98807212e-01,\n",
       "       9.99978700e-01, 2.42685894e-01, 6.18556324e-02, 5.02395019e-03,\n",
       "       4.26389450e-02, 6.99314599e-01, 9.64829576e-01, 3.24088499e-02,\n",
       "       9.99999928e-01, 9.99999986e-01, 9.99999938e-01, 2.57708306e-02,\n",
       "       4.10540815e-02, 4.07948052e-02, 9.99988737e-01, 9.99999716e-01,\n",
       "       2.31406735e-03, 7.45424401e-04, 9.28245366e-02, 1.39018465e-02,\n",
       "       1.13191430e-02, 4.14313642e-01, 6.68181765e-03, 9.88320242e-01,\n",
       "       9.99999976e-01, 5.00350454e-01, 3.08637871e-02, 1.12245133e-02,\n",
       "       2.28644764e-01, 1.77232067e-03, 7.64541308e-03, 9.99910588e-01,\n",
       "       1.77305560e-03, 5.51520086e-03, 5.47227231e-03, 2.84727391e-03,\n",
       "       2.83830947e-02, 1.12410179e-02, 3.42502020e-02, 1.15588905e-03])"
      ]
     },
     "execution_count": 9,
     "metadata": {},
     "output_type": "execute_result"
    }
   ],
   "source": [
    "logreg.predict_proba(bc_features_test)[:,1]"
   ]
  },
  {
   "cell_type": "code",
   "execution_count": 15,
   "id": "27ac884d",
   "metadata": {},
   "outputs": [
    {
     "data": {
      "text/plain": [
       "array([[114,  23],\n",
       "       [  2,  61]], dtype=int64)"
      ]
     },
     "execution_count": 15,
     "metadata": {},
     "output_type": "execute_result"
    }
   ],
   "source": [
    "# setting Logistic Regression probability threshold at values other than 0.5\n",
    "\n",
    "pred_logreg_thresh = logreg.predict_proba(bc_features_test)[:,1] > 0.2\n",
    "\n",
    "confusion_matrix(bc_target_test, pred_logreg_thresh)"
   ]
  },
  {
   "cell_type": "code",
   "execution_count": 16,
   "id": "12f2070f",
   "metadata": {},
   "outputs": [
    {
     "name": "stdout",
     "output_type": "stream",
     "text": [
      "Accuracy: 0.875\n",
      "Precision: 0.726\n",
      "Recall: 0.968\n",
      "F-Score: 0.830\n"
     ]
    }
   ],
   "source": [
    "print(\"Accuracy: {:.3f}\".format(accuracy_score(bc_target_test, pred_logreg_thresh)))\n",
    "print(\"Precision: {:.3f}\".format(precision_score(bc_target_test, pred_logreg_thresh)))\n",
    "print(\"Recall: {:.3f}\".format(recall_score(bc_target_test, pred_logreg_thresh)))\n",
    "print(\"F-Score: {:.3f}\".format(f1_score(bc_target_test, pred_logreg_thresh)))"
   ]
  },
  {
   "cell_type": "code",
   "execution_count": 17,
   "id": "1920abe4",
   "metadata": {
    "collapsed": true
   },
   "outputs": [
    {
     "data": {
      "text/plain": [
       "Text(0, 0.5, 'Recall')"
      ]
     },
     "execution_count": 17,
     "metadata": {},
     "output_type": "execute_result"
    },
    {
     "data": {
      "image/png": "[encoded data removed]",
      "text/plain": [
       "<Figure size 576x432 with 1 Axes>"
      ]
     },
     "metadata": {},
     "output_type": "display_data"
    }
   ],
   "source": [
    "# plot precision recall curve of LogReg\n",
    "\n",
    "from sklearn.metrics import precision_recall_curve\n",
    "\n",
    "plt.figure(figsize=(8,6))\n",
    "precision, recall, thresholds = precision_recall_curve(bc_target_test, logreg.decision_function(bc_features_test))\n",
    "close_zero = np.argmin(np.abs(thresholds))\n",
    "plt.plot(precision[close_zero], recall[close_zero], 'o', markersize=10, label=\"threshold 0.5\", fillstyle=\"none\", c='k')\n",
    "plt.plot(precision, recall, label=\"precision recall curve\")\n",
    "plt.xlabel(\"Precision\")\n",
    "plt.ylabel(\"Recall\")"
   ]
  },
  {
   "cell_type": "code",
   "execution_count": 18,
   "id": "e3fb7a6c",
   "metadata": {},
   "outputs": [
    {
     "name": "stdout",
     "output_type": "stream",
     "text": [
      "Accuracy on training set: 1.000\n",
      "Accuracy on test set: 0.975\n"
     ]
    }
   ],
   "source": [
    "from sklearn.ensemble import GradientBoostingClassifier\n",
    "\n",
    "gbc = GradientBoostingClassifier(n_estimators=1000, max_depth=3, subsample=1, learning_rate=0.1, random_state=99)\n",
    "gbc.fit(bc_features_train, bc_target_train)\n",
    "\n",
    "print(\"Accuracy on training set: {:.3f}\".format(gbc.score(bc_features_train, bc_target_train)))\n",
    "print(\"Accuracy on test set: {:.3f}\".format(gbc.score(bc_features_test, bc_target_test)))"
   ]
  },
  {
   "cell_type": "code",
   "execution_count": 19,
   "id": "8573f180",
   "metadata": {},
   "outputs": [
    {
     "data": {
      "text/plain": [
       "<matplotlib.legend.Legend at 0x252a65767c0>"
      ]
     },
     "execution_count": 19,
     "metadata": {},
     "output_type": "execute_result"
    },
    {
     "data": {
      "image/png": "[encoded data removed]",
      "text/plain": [
       "<Figure size 576x432 with 1 Axes>"
      ]
     },
     "metadata": {},
     "output_type": "display_data"
    }
   ],
   "source": [
    "# plot precision-recall curves of LogReg vs GBC\n",
    "\n",
    "plt.figure(figsize=(8,6))\n",
    "\n",
    "precision, recall, thresholds = precision_recall_curve(bc_target_test, logreg.decision_function(bc_features_test))\n",
    "close_zero = np.argmin(np.abs(thresholds))\n",
    "plt.xlabel(\"Precision\")\n",
    "plt.ylabel(\"Recall\")\n",
    "\n",
    "precision_gbc, recall_gbc, thresholds_gbc = precision_recall_curve(\n",
    "bc_target_test, gbc.predict_proba(bc_features_test)[:, 1])\n",
    "plt.plot(precision, recall, label=\"logreg\")\n",
    "plt.plot(precision[close_zero], recall[close_zero], 'o', markersize=10,\n",
    "label=\"threshold 0.5 logreg\", fillstyle=\"none\", c='k')\n",
    "plt.plot(precision_gbc, recall_gbc, label=\"gbc\")\n",
    "close_default_gbc = np.argmin(np.abs(thresholds_gbc - 0.5))\n",
    "plt.plot(precision_gbc[close_default_gbc], recall_gbc[close_default_gbc], '^', c='k',\n",
    "markersize=10, label=\"threshold 0.5 gbc\", fillstyle=\"none\", mew=2)\n",
    "plt.xlabel(\"Precision\")\n",
    "plt.ylabel(\"Recall\")\n",
    "plt.legend(loc=\"best\")"
   ]
  },
  {
   "cell_type": "code",
   "execution_count": 20,
   "id": "b8dc53a6",
   "metadata": {},
   "outputs": [
    {
     "name": "stdout",
     "output_type": "stream",
     "text": [
      "Average precision of Gradient Boosting Classifier: 0.993\n",
      "Average precision of Logistic Regression: 0.975\n"
     ]
    }
   ],
   "source": [
    "# area under precision-recall curve\n",
    "\n",
    "from sklearn.metrics import average_precision_score\n",
    "\n",
    "ap_rf = average_precision_score(bc_target_test, gbc.predict_proba(bc_features_test)[:, 1])\n",
    "ap_logreg = average_precision_score(bc_target_test, logreg.decision_function(bc_features_test))\n",
    "print(\"Average precision of Gradient Boosting Classifier: {:.3f}\".format(ap_rf))\n",
    "print(\"Average precision of Logistic Regression: {:.3f}\".format(ap_logreg))"
   ]
  },
  {
   "cell_type": "code",
   "execution_count": 21,
   "id": "f91f9ef4",
   "metadata": {},
   "outputs": [
    {
     "data": {
      "text/plain": [
       "<matplotlib.legend.Legend at 0x252a6600ee0>"
      ]
     },
     "execution_count": 21,
     "metadata": {},
     "output_type": "execute_result"
    },
    {
     "data": {
      "image/png": "[encoded data removed]",
      "text/plain": [
       "<Figure size 576x504 with 1 Axes>"
      ]
     },
     "metadata": {},
     "output_type": "display_data"
    }
   ],
   "source": [
    "# plot ROC curve\n",
    "\n",
    "from sklearn.metrics import roc_curve\n",
    "\n",
    "fpr, tpr, thresholds = roc_curve(bc_target_test, logreg.decision_function(bc_features_test))\n",
    "\n",
    "plt.figure(figsize=(8,7))\n",
    "plt.plot(fpr, tpr, label=\"ROC Curve\")\n",
    "plt.xlabel(\"FPR\")\n",
    "plt.ylabel(\"TPR (recall)\")\n",
    "# find threshold closest to zero\n",
    "close_zero = np.argmin(np.abs(thresholds))\n",
    "plt.plot(fpr[close_zero], tpr[close_zero], 'o', markersize=10,\n",
    " label=\"threshold 0.5\", fillstyle=\"none\", c='k', mew=2)\n",
    "plt.legend(loc=4)\n",
    "\n",
    "fpr_gbc, tpr_gbc, thresholds_gbc = roc_curve(bc_target_test, gbc.predict_proba(bc_features_test)[:, 1])\n",
    "plt.plot(fpr, tpr, label=\"ROC Curve logreg\")\n",
    "plt.plot(fpr_gbc, tpr_gbc, label=\"ROC Curve gbc\")\n",
    "plt.xlabel(\"FPR\")\n",
    "plt.ylabel(\"TPR (recall)\")\n",
    "plt.plot(fpr[close_zero], tpr[close_zero], 'o', markersize=10,\n",
    " label=\"threshold 0.5 logreg\", fillstyle=\"none\", c='k', mew=2)\n",
    "close_default_gbc = np.argmin(np.abs(thresholds_gbc - 0.5))\n",
    "plt.plot(fpr_gbc[close_default_gbc], tpr[close_default_gbc], '^', markersize=10,\n",
    " label=\"threshold 0.5 gbc\", fillstyle=\"none\", c='k', mew=2)\n",
    "plt.legend(loc=4)"
   ]
  },
  {
   "cell_type": "code",
   "execution_count": 22,
   "id": "760de230",
   "metadata": {},
   "outputs": [
    {
     "name": "stdout",
     "output_type": "stream",
     "text": [
      "AUC for Gradient Boosting Classifier: 0.996\n",
      "AUC for Logistic Regression: 0.984\n"
     ]
    }
   ],
   "source": [
    "# area under ROC curve\n",
    "\n",
    "from sklearn.metrics import roc_auc_score\n",
    "\n",
    "gbc_auc = roc_auc_score(bc_target_test, gbc.predict_proba(bc_features_test)[:, 1])\n",
    "logreg_auc = roc_auc_score(bc_target_test, logreg.decision_function(bc_features_test))\n",
    "print(\"AUC for Gradient Boosting Classifier: {:.3f}\".format(gbc_auc))\n",
    "print(\"AUC for Logistic Regression: {:.3f}\".format(logreg_auc))"
   ]
  },
  {
   "cell_type": "code",
   "execution_count": null,
   "id": "b1288d97",
   "metadata": {},
   "outputs": [],
   "source": []
  }
 ],
 "metadata": {
  "kernelspec": {
   "display_name": "Python 3 (ipykernel)",
   "language": "python",
   "name": "python3"
  },
  "language_info": {
   "codemirror_mode": {
    "name": "ipython",
    "version": 3
   },
   "file_extension": ".py",
   "mimetype": "text/x-python",
   "name": "python",
   "nbconvert_exporter": "python",
   "pygments_lexer": "ipython3",
   "version": "3.9.7"
  }
 },
 "nbformat": 4,
 "nbformat_minor": 5
}
