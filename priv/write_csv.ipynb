{
 "cells": [
  {
   "cell_type": "code",
   "execution_count": 7,
   "id": "bcc17a04",
   "metadata": {},
   "outputs": [],
   "source": [
    "import pandas as pd\n",
    "\n",
    "mnist_train = pd.read_csv(\"mnist_train.csv\")\n",
    "mnist_test = pd.read_csv(\"mnist_test.csv\")\n",
    "\n",
    "mnist_full = pd.concat([mnist_train, mnist_test])\n",
    "mnist = mnist_full.iloc[:20000, :]"
   ]
  },
  {
   "cell_type": "code",
   "execution_count": 8,
   "id": "b01ef663",
   "metadata": {},
   "outputs": [],
   "source": [
    "mnist_full.to_csv(\"mnist_full.csv\", index=False)\n",
    "mnist.to_csv(\"mnist.csv\", index=False)"
   ]
  },
  {
   "cell_type": "code",
   "execution_count": null,
   "id": "631ac8b2",
   "metadata": {},
   "outputs": [],
   "source": []
  }
 ],
 "metadata": {
  "kernelspec": {
   "display_name": "Python 3 (ipykernel)",
   "language": "python",
   "name": "python3"
  },
  "language_info": {
   "codemirror_mode": {
    "name": "ipython",
    "version": 3
   },
   "file_extension": ".py",
   "mimetype": "text/x-python",
   "name": "python",
   "nbconvert_exporter": "python",
   "pygments_lexer": "ipython3",
   "version": "3.9.7"
  }
 },
 "nbformat": 4,
 "nbformat_minor": 5
}
